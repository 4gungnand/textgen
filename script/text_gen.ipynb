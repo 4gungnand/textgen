{
  "cells": [
    {
      "cell_type": "markdown",
      "metadata": {},
      "source": [
        "# Import Libraries"
      ]
    },
    {
      "cell_type": "code",
      "execution_count": 2,
      "metadata": {
        "id": "BOwsuGQQY9OL"
      },
      "outputs": [],
      "source": [
        "import numpy as np\n",
        "import re\n",
        "import matplotlib.pyplot as plt\n",
        "import tensorflow as tf\n",
        "from tensorflow.keras.models import Sequential\n",
        "from tensorflow.keras.utils import to_categorical\n",
        "from tensorflow.keras.preprocessing.text import Tokenizer\n",
        "from tensorflow.keras.preprocessing.sequence import pad_sequences\n",
        "from tensorflow.keras.layers import Embedding, LSTM, Dense, Bidirectional, GRU"
      ]
    },
    {
      "cell_type": "markdown",
      "metadata": {
        "id": "bFWbEb6uGbN-"
      },
      "source": [
        "# Game Dialogue Generator ver.999\n",
        "\n",
        "Creating a model that will magically predict the next words based on a text input."
      ]
    },
    {
      "cell_type": "markdown",
      "metadata": {
        "id": "YgXtktW6lWWg"
      },
      "source": [
        "OUR TEAM:\n",
        "\n",
        "| Name | NIM |\n",
        "|---|---|\n",
        "|Shahran Kurnia Ramadhan|21/476650/PA/20592|\n",
        "|Muhammad Linggar Ryanidha|21/475209/PA/20548|\n",
        "|Daniel Ardi Chandra|21/479046/PA/20780|\n",
        "|I Gusti Agung Premananda |21/473829/PA/20432|"
      ]
    },
    {
      "cell_type": "code",
      "execution_count": 3,
      "metadata": {},
      "outputs": [
        {
          "name": "stdout",
          "output_type": "stream",
          "text": [
            "[name: \"/device:CPU:0\"\n",
            "device_type: \"CPU\"\n",
            "memory_limit: 268435456\n",
            "locality {\n",
            "}\n",
            "incarnation: 5069414469308419526\n",
            "xla_global_id: -1\n",
            "]\n"
          ]
        }
      ],
      "source": [
        "from tensorflow.python.client import device_lib\n",
        "print(device_lib.list_local_devices())"
      ]
    },
    {
      "cell_type": "code",
      "execution_count": 4,
      "metadata": {},
      "outputs": [
        {
          "name": "stdout",
          "output_type": "stream",
          "text": [
            "2.13.0\n"
          ]
        }
      ],
      "source": [
        "print(tf.__version__)"
      ]
    },
    {
      "cell_type": "code",
      "execution_count": 5,
      "metadata": {
        "colab": {
          "base_uri": "https://localhost:8080/",
          "height": 246
        },
        "id": "Pfd-nYKij5yY",
        "outputId": "05c429bb-a2e4-461a-af15-f4bdc2af2ae5"
      },
      "outputs": [
        {
          "name": "stdout",
          "output_type": "stream",
          "text": [
            "There are 5591 lines\n",
            "\n",
            "The first 5 lines look like this:\n",
            "\n",
            "cameras\n",
            "glados says this if you place a portal on the wall under a camera.\n",
            "to ensure the safe performance of all authorized activities, do not destroy \n",
            "vital testing apparatus.\n",
            "for your own safety, do not destroy vital testing apparatus.\n"
          ]
        }
      ],
      "source": [
        "# Define path for file with datasets\n",
        "dataset = '..\\Datasets\\VGCoST_VideoGameDialogue_Corpus\\ENG\\Portal_merged.txt'\n",
        "\n",
        "# Define the datasets path\n",
        "# dataset = '..\\Datasets\\Efonte_DiscoElysium_Dialogue\\Efonte_DiscoElysium_dataset.txt'\n",
        "\n",
        "# Read the data\n",
        "with open(dataset, encoding='ISO-8859-1') as f:\n",
        "    data = f.read()\n",
        "\n",
        "# Remove unwanted characters using regex\n",
        "data = re.sub(r\"[@\\[\\\"'\\]]\", \"\", data)\n",
        "\n",
        "# Convert to lower case and save as a list\n",
        "corpus = data.lower().split(\"\\n\")\n",
        "\n",
        "print(f\"There are {len(corpus)} lines\\n\")\n",
        "print(f\"The first 5 lines look like this:\\n\")\n",
        "for i in range(5):\n",
        "    print(corpus[i])"
      ]
    },
    {
      "cell_type": "markdown",
      "metadata": {
        "id": "imB15zrSNhA1"
      },
      "source": [
        "## Tokenizing the text\n",
        "\n",
        "Now fit the Tokenizer to the corpus and save the total number of words."
      ]
    },
    {
      "cell_type": "code",
      "execution_count": 6,
      "metadata": {},
      "outputs": [
        {
          "name": "stdout",
          "output_type": "stream",
          "text": [
            "200\n"
          ]
        }
      ],
      "source": [
        "# # TESTING ONLY, COMMENT WHEN RUNNING FULL CODE\n",
        "# corpus = corpus[:200]\n",
        "# print(len(corpus))"
      ]
    },
    {
      "cell_type": "code",
      "execution_count": 7,
      "metadata": {
        "id": "AAhM_qAZk0o5"
      },
      "outputs": [
        {
          "name": "stdout",
          "output_type": "stream",
          "text": [
            "Total words: 435\n"
          ]
        }
      ],
      "source": [
        "tokenizer = Tokenizer()\n",
        "tokenizer.fit_on_texts(corpus)\n",
        "total_words = len(tokenizer.word_index) + 1\n",
        "print(f\"Total words: {total_words}\")"
      ]
    },
    {
      "cell_type": "code",
      "execution_count": 8,
      "metadata": {},
      "outputs": [
        {
          "data": {
            "text/plain": [
              "{'the': 1,\n",
              " 'you': 2,\n",
              " 'to': 3,\n",
              " 'of': 4,\n",
              " 'this': 5,\n",
              " 'a': 6,\n",
              " 'your': 7,\n",
              " 'not': 8,\n",
              " 'test': 9,\n",
              " 'and': 10,\n",
              " 'please': 11,\n",
              " 'aperture': 12,\n",
              " 'science': 13,\n",
              " 'chamber': 14,\n",
              " 'we': 15,\n",
              " 'turrets': 16,\n",
              " 'are': 17,\n",
              " 'testing': 18,\n",
              " 'when': 19,\n",
              " 'is': 20,\n",
              " 'in': 21,\n",
              " 'do': 22,\n",
              " 'for': 23,\n",
              " 'be': 24,\n",
              " 'will': 25,\n",
              " 'say': 26,\n",
              " 'vital': 27,\n",
              " 'apparatus': 28,\n",
              " 'enrichment': 29,\n",
              " 'center': 30,\n",
              " 'good': 31,\n",
              " 'that': 32,\n",
              " 'have': 33,\n",
              " 'on': 34,\n",
              " 'safety': 35,\n",
              " 'cube': 36,\n",
              " 'device': 37,\n",
              " 'if': 38,\n",
              " 'however': 39,\n",
              " 'there': 40,\n",
              " 'now': 41,\n",
              " 'as': 42,\n",
              " 'part': 43,\n",
              " 'destroy': 44,\n",
              " 'own': 45,\n",
              " 'weighted': 46,\n",
              " 'storage': 47,\n",
              " 'through': 48,\n",
              " 'they': 49,\n",
              " 'hello': 50,\n",
              " 'i': 51,\n",
              " 'me': 52,\n",
              " 'no': 53,\n",
              " 'ow': 54,\n",
              " 'been': 55,\n",
              " 'lock': 56,\n",
              " 'any': 57,\n",
              " 'protocol': 58,\n",
              " 'an': 59,\n",
              " 'required': 60,\n",
              " 'glados': 61,\n",
              " 'says': 62,\n",
              " 'may': 63,\n",
              " 'at': 64,\n",
              " 'proceed': 65,\n",
              " 'activated': 66,\n",
              " 'here': 67,\n",
              " 'can': 68,\n",
              " 'them': 69,\n",
              " 'hey': 70,\n",
              " 'down': 71,\n",
              " 'dont': 72,\n",
              " 'error': 73,\n",
              " 'again': 74,\n",
              " 'has': 75,\n",
              " 'one': 76,\n",
              " 'note': 77,\n",
              " 'it': 78,\n",
              " 'very': 79,\n",
              " 'well': 80,\n",
              " 'solve': 81,\n",
              " 'place': 82,\n",
              " 'portal': 83,\n",
              " 'under': 84,\n",
              " 'safe': 85,\n",
              " 'all': 86,\n",
              " 'activities': 87,\n",
              " 'destroyed': 88,\n",
              " 'into': 89,\n",
              " 'replacement': 90,\n",
              " 'bring': 91,\n",
              " 'fizzler': 92,\n",
              " 'attempt': 93,\n",
              " 'from': 94,\n",
              " 'see': 95,\n",
              " 'target': 96,\n",
              " 'product': 97,\n",
              " 'field': 98,\n",
              " 'searching': 99,\n",
              " 'mode': 100,\n",
              " 'over': 101,\n",
              " 'help': 102,\n",
              " 'up': 103,\n",
              " 'put': 104,\n",
              " 'oh': 105,\n",
              " 'by': 106,\n",
              " 'its': 107,\n",
              " 'stop': 108,\n",
              " 'sorry': 109,\n",
              " 'were': 110,\n",
              " 'blame': 111,\n",
              " 'time': 112,\n",
              " 'welcome': 113,\n",
              " 'mind': 114,\n",
              " 'goals': 115,\n",
              " 'excellent': 116,\n",
              " 'material': 117,\n",
              " 'emancipation': 118,\n",
              " 'grille': 119,\n",
              " 'equipment': 120,\n",
              " 'super': 121,\n",
              " 'button': 122,\n",
              " 'perfect': 123,\n",
              " 'youre': 124,\n",
              " 'doing': 125,\n",
              " 'with': 126,\n",
              " 'operational': 127,\n",
              " 'end': 128,\n",
              " 'most': 129,\n",
              " 'work': 130,\n",
              " '04': 131,\n",
              " 'once': 132,\n",
              " 'monitor': 133,\n",
              " 'next': 134,\n",
              " 'luck': 135,\n",
              " 'would': 136,\n",
              " 'was': 137,\n",
              " 'high': 138,\n",
              " 'energy': 139,\n",
              " 'subject': 140,\n",
              " 'puzzle': 141,\n",
              " 'quit': 142,\n",
              " 'cameras': 143,\n",
              " 'wall': 144,\n",
              " 'camera': 145,\n",
              " 'ensure': 146,\n",
              " 'performance': 147,\n",
              " 'authorized': 148,\n",
              " 'certain': 149,\n",
              " 'objects': 150,\n",
              " 'success': 151,\n",
              " 'promise': 152,\n",
              " 'never': 153,\n",
              " 'value': 154,\n",
              " 'above': 155,\n",
              " 'unique': 156,\n",
              " 'ideas': 157,\n",
              " 'creativity': 158,\n",
              " 'cubes': 159,\n",
              " 'throw': 160,\n",
              " 'acid': 161,\n",
              " 'vent': 162,\n",
              " 'try': 163,\n",
              " 'remove': 164,\n",
              " 'area': 165,\n",
              " 'delivered': 166,\n",
              " 'shortly': 167,\n",
              " 'hi': 168,\n",
              " 'acquired': 169,\n",
              " 'dispensing': 170,\n",
              " 'firing': 171,\n",
              " 'friend': 172,\n",
              " 'gotcha': 173,\n",
              " 'leave': 174,\n",
              " 'their': 175,\n",
              " 'vision': 176,\n",
              " 'canvassing': 177,\n",
              " 'sentry': 178,\n",
              " 'anyone': 179,\n",
              " 'could': 180,\n",
              " 'come': 181,\n",
              " 'still': 182,\n",
              " 'lost': 183,\n",
              " 'pick': 184,\n",
              " 'heyheyhey': 185,\n",
              " 'whooooaaaa': 186,\n",
              " 'illegal': 187,\n",
              " 'operation': 188,\n",
              " 'who': 189,\n",
              " 'uh': 190,\n",
              " 'get': 191,\n",
              " 'shot': 192,\n",
              " 'other': 193,\n",
              " 'shoot': 194,\n",
              " 'shooting': 195,\n",
              " 'knock': 196,\n",
              " 'turret': 197,\n",
              " 'coming': 198,\n",
              " 'excuse': 199,\n",
              " 'my': 200,\n",
              " 'fault': 201,\n",
              " 'take': 202,\n",
              " 'ayiyiyiyiyiyi': 203,\n",
              " 'deployed': 204,\n",
              " 'deploying': 205,\n",
              " 'preparing': 206,\n",
              " 'dispense': 207,\n",
              " 'whos': 208,\n",
              " 'disable': 209,\n",
              " 'nervous': 210,\n",
              " 'laughter': 211,\n",
              " 'critical': 212,\n",
              " 'closed': 213,\n",
              " 'shutting': 214,\n",
              " 'hate': 215,\n",
              " 'whyyy': 216,\n",
              " 'hard': 217,\n",
              " 'feelings': 218,\n",
              " 'ah': 219,\n",
              " 'self': 220,\n",
              " 'unknown': 221,\n",
              " 'malfunctioning': 222,\n",
              " 'aaahhhh': 223,\n",
              " 'oww': 224,\n",
              " 'bye': 225,\n",
              " 'sleep': 226,\n",
              " 'business': 227,\n",
              " 'appreciated': 228,\n",
              " 'hybernating': 229,\n",
              " 'night': 230,\n",
              " 'resting': 231,\n",
              " 'nap': 232,\n",
              " '00': 233,\n",
              " 'computer': 234,\n",
              " 'aided': 235,\n",
              " 'hope': 236,\n",
              " 'brief': 237,\n",
              " 'detention': 238,\n",
              " 'relaxation': 239,\n",
              " 'vault': 240,\n",
              " 'pleasant': 241,\n",
              " 'specimen': 242,\n",
              " 'processed': 243,\n",
              " 'ready': 244,\n",
              " 'begin': 245,\n",
              " 'proper': 246,\n",
              " 'before': 247,\n",
              " 'start': 248,\n",
              " 'keep': 249,\n",
              " 'although': 250,\n",
              " 'fun': 251,\n",
              " 'learning': 252,\n",
              " 'primary': 253,\n",
              " 'serious': 254,\n",
              " 'injuries': 255,\n",
              " 'occur': 256,\n",
              " 'others': 257,\n",
              " 'refrain': 258,\n",
              " 'after': 259,\n",
              " 'completing': 260,\n",
              " 'each': 261,\n",
              " 'first': 262,\n",
              " 'incandescent': 263,\n",
              " 'particle': 264,\n",
              " 'across': 265,\n",
              " 'exit': 266,\n",
              " 'vapourize': 267,\n",
              " 'unauthorized': 268,\n",
              " 'passes': 269,\n",
              " 'instance': 270,\n",
              " '01': 271,\n",
              " '1500': 272,\n",
              " 'megawatt': 273,\n",
              " 'heavy': 274,\n",
              " 'duty': 275,\n",
              " 'colliding': 276,\n",
              " 'move': 277,\n",
              " 'quickly': 278,\n",
              " 'effects': 279,\n",
              " 'prolonged': 280,\n",
              " 'exposure': 281,\n",
              " '02': 282,\n",
              " 'advised': 283,\n",
              " 'noticable': 284,\n",
              " 'taste': 285,\n",
              " 'blood': 286,\n",
              " 'but': 287,\n",
              " 'unintended': 288,\n",
              " 'side': 289,\n",
              " 'effect': 290,\n",
              " 'which': 291,\n",
              " 'semi': 292,\n",
              " 'rare': 293,\n",
              " 'cases': 294,\n",
              " 'emancipate': 295,\n",
              " 'dental': 296,\n",
              " 'fillings': 297,\n",
              " 'crowns': 298,\n",
              " 'tooth': 299,\n",
              " 'enamel': 300,\n",
              " 'teeth': 301,\n",
              " 'possession': 302,\n",
              " 'handheld': 303,\n",
              " 'create': 304,\n",
              " 'portals': 305,\n",
              " 'these': 306,\n",
              " 'inter': 307,\n",
              " 'dimensional': 308,\n",
              " 'gates': 309,\n",
              " 'proven': 310,\n",
              " 'completely': 311,\n",
              " 'touch': 312,\n",
              " 'look': 313,\n",
              " 'directly': 314,\n",
              " 'submerge': 315,\n",
              " 'liquid': 316,\n",
              " 'even': 317,\n",
              " 'partially': 318,\n",
              " 'importantly': 319,\n",
              " 'circumstances': 320,\n",
              " 'should': 321,\n",
              " '03': 322,\n",
              " 'gap': 323,\n",
              " 'done': 324,\n",
              " 'remember': 325,\n",
              " 'daughter': 326,\n",
              " 'day': 327,\n",
              " 'her': 328,\n",
              " 'tested': 329,\n",
              " 'quite': 330,\n",
              " 'entirely': 331,\n",
              " '05': 332,\n",
              " 'our': 333,\n",
              " 'previous': 334,\n",
              " 'statement': 335,\n",
              " 'suggesting': 336,\n",
              " 'outright': 337,\n",
              " 'fabrication': 338,\n",
              " 'job': 339,\n",
              " 'enhancing': 340,\n",
              " 'truth': 341,\n",
              " 'three': 342,\n",
              " 'two': 343,\n",
              " 'o': 344,\n",
              " '06': 345,\n",
              " 'while': 346,\n",
              " 'many': 347,\n",
              " 'pellets': 348,\n",
              " 'seen': 349,\n",
              " 'left': 350,\n",
              " 'caused': 351,\n",
              " 'permanent': 352,\n",
              " 'disabilities': 353,\n",
              " 'such': 354,\n",
              " 'vapourisation': 355,\n",
              " 'careful': 356,\n",
              " 'unbelievable': 357,\n",
              " 'name': 358,\n",
              " 'must': 359,\n",
              " 'pride': 360,\n",
              " 'hometown': 361,\n",
              " '07': 362,\n",
              " 'warning': 363,\n",
              " 'devices': 364,\n",
              " 'mobile': 365,\n",
              " 'alarms': 366,\n",
              " 'flashing': 367,\n",
              " 'hazard': 368,\n",
              " 'lights': 369,\n",
              " 'found': 370,\n",
              " 'agitate': 371,\n",
              " 'pellet': 372,\n",
              " 'therefore': 373,\n",
              " 'disabled': 374,\n",
              " 'use': 375,\n",
              " 'unstationary': 376,\n",
              " 'scaffold': 377,\n",
              " 'reach': 378,\n",
              " '08': 379,\n",
              " 'added': 380,\n",
              " 'consequence': 381,\n",
              " 'failure': 382,\n",
              " 'contact': 383,\n",
              " 'floor': 384,\n",
              " 'result': 385,\n",
              " 'unsatisfactory': 386,\n",
              " 'mark': 387,\n",
              " 'official': 388,\n",
              " 'record': 389,\n",
              " 'followed': 390,\n",
              " 'death': 391,\n",
              " 'impressive': 392,\n",
              " 'appearance': 393,\n",
              " 'danger': 394,\n",
              " 'merely': 395,\n",
              " 'enhance': 396,\n",
              " 'experience': 397,\n",
              " '09': 398,\n",
              " 'regrets': 399,\n",
              " 'inform': 400,\n",
              " 'impossible': 401,\n",
              " 'make': 402,\n",
              " 'trouble': 403,\n",
              " 'or': 404,\n",
              " 'wait': 405,\n",
              " 'apologizes': 406,\n",
              " 'clearly': 407,\n",
              " 'broken': 408,\n",
              " 'offers': 409,\n",
              " 'sincere': 410,\n",
              " 'apologies': 411,\n",
              " 'occasion': 412,\n",
              " 'unsolvable': 413,\n",
              " 'environment': 414,\n",
              " 'frankly': 415,\n",
              " 'mistake': 416,\n",
              " 'giving': 417,\n",
              " 'fact': 418,\n",
              " 'quitting': 419,\n",
              " 'point': 420,\n",
              " 'perfectly': 421,\n",
              " 'reasonable': 422,\n",
              " 'response': 423,\n",
              " 'cake': 424,\n",
              " 'served': 425,\n",
              " 'immediately': 426,\n",
              " 'finally': 427,\n",
              " 'fantastic': 428,\n",
              " 'remained': 429,\n",
              " 'resolute': 430,\n",
              " 'resourceful': 431,\n",
              " 'atmosphere': 432,\n",
              " 'extreme': 433,\n",
              " 'pessimism': 434}"
            ]
          },
          "execution_count": 8,
          "metadata": {},
          "output_type": "execute_result"
        }
      ],
      "source": [
        "tokenizer.word_index"
      ]
    },
    {
      "cell_type": "markdown",
      "metadata": {
        "id": "-oqy9KjXRJ9A"
      },
      "source": [
        "## Generating n_grams"
      ]
    },
    {
      "cell_type": "code",
      "execution_count": 9,
      "metadata": {
        "id": "iy4baJMDl6kj"
      },
      "outputs": [],
      "source": [
        "def n_gram_seqs(corpus, tokenizer):\n",
        "\tinput_sequences = []\n",
        "\tfor line in corpus:\n",
        "\t\ttoken_list = tokenizer.texts_to_sequences([line])[0]\n",
        "\t\tfor i in range(1, len(token_list)):\n",
        "\t\t\tn_gram_sequence = token_list[:i+1]\n",
        "\t\t\tinput_sequences.append(n_gram_sequence)\n",
        "\treturn input_sequences"
      ]
    },
    {
      "cell_type": "code",
      "execution_count": 10,
      "metadata": {},
      "outputs": [
        {
          "data": {
            "text/plain": [
              "['glados says this if you place a portal on the wall under a camera.',\n",
              " 'to ensure the safe performance of all authorized activities, do not destroy ',\n",
              " 'vital testing apparatus.']"
            ]
          },
          "execution_count": 10,
          "metadata": {},
          "output_type": "execute_result"
        }
      ],
      "source": [
        "corpus[1:4]"
      ]
    },
    {
      "cell_type": "code",
      "execution_count": 11,
      "metadata": {
        "colab": {
          "base_uri": "https://localhost:8080/"
        },
        "id": "wtPpCcBjNc4c",
        "outputId": "a16238cd-17d9-4b99-c639-82145890475f"
      },
      "outputs": [
        {
          "name": "stdout",
          "output_type": "stream",
          "text": [
            "n_gram sequences for next 3 examples look like this:\n",
            "\n"
          ]
        },
        {
          "data": {
            "text/plain": [
              "[[61, 62],\n",
              " [61, 62, 5],\n",
              " [61, 62, 5, 38],\n",
              " [61, 62, 5, 38, 2],\n",
              " [61, 62, 5, 38, 2, 82],\n",
              " [61, 62, 5, 38, 2, 82, 6],\n",
              " [61, 62, 5, 38, 2, 82, 6, 83],\n",
              " [61, 62, 5, 38, 2, 82, 6, 83, 34],\n",
              " [61, 62, 5, 38, 2, 82, 6, 83, 34, 1],\n",
              " [61, 62, 5, 38, 2, 82, 6, 83, 34, 1, 144],\n",
              " [61, 62, 5, 38, 2, 82, 6, 83, 34, 1, 144, 84],\n",
              " [61, 62, 5, 38, 2, 82, 6, 83, 34, 1, 144, 84, 6],\n",
              " [61, 62, 5, 38, 2, 82, 6, 83, 34, 1, 144, 84, 6, 145],\n",
              " [3, 146],\n",
              " [3, 146, 1],\n",
              " [3, 146, 1, 85],\n",
              " [3, 146, 1, 85, 147],\n",
              " [3, 146, 1, 85, 147, 4],\n",
              " [3, 146, 1, 85, 147, 4, 86],\n",
              " [3, 146, 1, 85, 147, 4, 86, 148],\n",
              " [3, 146, 1, 85, 147, 4, 86, 148, 87],\n",
              " [3, 146, 1, 85, 147, 4, 86, 148, 87, 22],\n",
              " [3, 146, 1, 85, 147, 4, 86, 148, 87, 22, 8],\n",
              " [3, 146, 1, 85, 147, 4, 86, 148, 87, 22, 8, 44],\n",
              " [27, 18],\n",
              " [27, 18, 28]]"
            ]
          },
          "execution_count": 11,
          "metadata": {},
          "output_type": "execute_result"
        }
      ],
      "source": [
        "# Test function\n",
        "test_3_seq = n_gram_seqs(corpus[1:4], tokenizer)\n",
        "\n",
        "print(\"n_gram sequences for next 3 examples look like this:\\n\")\n",
        "test_3_seq"
      ]
    },
    {
      "cell_type": "markdown",
      "metadata": {
        "id": "dx3V_RjFWQSu"
      },
      "source": [
        "Apply the `n_gram_seqs` transformation to the whole corpus and save the maximum sequence length to use it later:"
      ]
    },
    {
      "cell_type": "code",
      "execution_count": 12,
      "metadata": {
        "colab": {
          "base_uri": "https://localhost:8080/"
        },
        "id": "laMwiRUpmuSd",
        "outputId": "a78d5ad9-c4e0-41dd-e291-01df3fb7d0ce"
      },
      "outputs": [
        {
          "name": "stdout",
          "output_type": "stream",
          "text": [
            "n_grams of input_sequences have length: 851\n",
            "maximum length of sequences is: 16\n"
          ]
        }
      ],
      "source": [
        "# Apply the n_gram_seqs transformation to the whole corpus\n",
        "input_sequences = n_gram_seqs(corpus, tokenizer)\n",
        "\n",
        "# Save max length\n",
        "max_sequence_len = max([len(x) for x in input_sequences])\n",
        "\n",
        "print(f\"n_grams of input_sequences have length: {len(input_sequences)}\")\n",
        "print(f\"maximum length of sequences is: {max_sequence_len}\")"
      ]
    },
    {
      "cell_type": "markdown",
      "metadata": {
        "id": "zHY7HroqWq12"
      },
      "source": [
        "## Add padding to the sequences\n",
        "\n",
        "We padd the sequences so they have the same length and efficient when being feeded into the machine learning model."
      ]
    },
    {
      "cell_type": "code",
      "execution_count": 13,
      "metadata": {
        "colab": {
          "base_uri": "https://localhost:8080/"
        },
        "id": "rgK-Q_micEYA",
        "outputId": "e203e4a9-9fd7-4ee3-f242-f471cf84f584"
      },
      "outputs": [
        {
          "name": "stdout",
          "output_type": "stream",
          "text": [
            "padded corpus has shape: (851, 16)\n"
          ]
        }
      ],
      "source": [
        "# Pad the whole corpus\n",
        "input_sequences = pad_sequences(input_sequences, maxlen=max_sequence_len, padding='pre')\n",
        "\n",
        "print(f\"padded corpus has shape: {input_sequences.shape}\")"
      ]
    },
    {
      "cell_type": "markdown",
      "metadata": {
        "id": "ZbOidyPrXxf7"
      },
      "source": [
        "## Split the data into features and labels\n",
        "\n",
        "Before feeding the data into the neural network you should split it into features and labels. In this case the features will be the padded n_gram sequences with the last word removed from them and the labels will be the removed word."
      ]
    },
    {
      "cell_type": "code",
      "execution_count": 14,
      "metadata": {
        "cellView": "code",
        "id": "9WGGbYdnZdmJ"
      },
      "outputs": [],
      "source": [
        "# GRADED FUNCTION: features_and_labels\n",
        "def features_and_labels(input_sequences, total_words):\n",
        "    features = input_sequences[:,:-1]\n",
        "    labels = input_sequences[:,-1]\n",
        "    one_hot_labels = to_categorical(labels, num_classes=total_words)\n",
        "    return features, one_hot_labels"
      ]
    },
    {
      "cell_type": "code",
      "execution_count": 15,
      "metadata": {
        "colab": {
          "base_uri": "https://localhost:8080/"
        },
        "id": "GRTuLEt3bRKa",
        "outputId": "87c3a158-1bf6-4316-c8d0-05dee2a0a776"
      },
      "outputs": [
        {
          "name": "stdout",
          "output_type": "stream",
          "text": [
            "features have shape: (851, 15)\n",
            "labels have shape: (851, 435)\n"
          ]
        }
      ],
      "source": [
        "# Split the whole corpus\n",
        "features, labels = features_and_labels(input_sequences, total_words)\n",
        "\n",
        "print(f\"features have shape: {features.shape}\")\n",
        "print(f\"labels have shape: {labels.shape}\")"
      ]
    },
    {
      "cell_type": "code",
      "execution_count": 16,
      "metadata": {},
      "outputs": [],
      "source": [
        "from sklearn.model_selection import train_test_split\n",
        "\n",
        "# RATIO for TRAIN / VAL / TEST: 60/20/20\n",
        "\n",
        "# Split the data into training and testing sets\n",
        "train_features, test_features, train_labels, test_labels = train_test_split(features, labels, test_size=0.2, random_state=42)\n",
        "\n",
        "# Split the training data into training and validation sets\n",
        "train_features, val_features, train_labels, val_labels = train_test_split(train_features, train_labels, test_size=0.25, random_state=42)"
      ]
    },
    {
      "cell_type": "code",
      "execution_count": 17,
      "metadata": {},
      "outputs": [
        {
          "data": {
            "text/plain": [
              "(510, 510, 170, 170, 171, 171)"
            ]
          },
          "execution_count": 17,
          "metadata": {},
          "output_type": "execute_result"
        }
      ],
      "source": [
        "len(train_features), len(train_labels), len(val_features), len(val_labels), len(test_features), len(test_labels)"
      ]
    },
    {
      "cell_type": "markdown",
      "metadata": {
        "id": "ltxaOCE_aU6J"
      },
      "source": [
        "# LSTM model"
      ]
    },
    {
      "cell_type": "code",
      "execution_count": 18,
      "metadata": {},
      "outputs": [],
      "source": [
        "# Define the parameters\n",
        "VOCAB_SIZE = total_words  \n",
        "EMBEDDING_DIM = 256\n",
        "EPOCH = 100"
      ]
    },
    {
      "cell_type": "code",
      "execution_count": 19,
      "metadata": {
        "cellView": "code",
        "id": "XrE6kpJFfvRY"
      },
      "outputs": [],
      "source": [
        "# Define the model\n",
        "def create_model_lstm(rnn_units, dropout):\n",
        "    model = Sequential([\n",
        "        Embedding(VOCAB_SIZE, EMBEDDING_DIM, input_length=max_sequence_len-1),\n",
        "        Bidirectional(LSTM(rnn_units, dropout=dropout)), # This is the core GRU layer\n",
        "        Dense(VOCAB_SIZE, activation='softmax')\n",
        "    ])\n",
        "    model.compile(loss='categorical_crossentropy',\n",
        "                  optimizer='adam',\n",
        "                  metrics=['accuracy'])\n",
        "    return model"
      ]
    },
    {
      "cell_type": "code",
      "execution_count": 20,
      "metadata": {},
      "outputs": [],
      "source": [
        "# Define the hyperparameters\n",
        "dropout = [0.2, 0.3, 0.4]\n",
        "rnn_units = [128, 256, 512]\n",
        "# dropout = [0.2]\n",
        "# rnn_units = [128]"
      ]
    },
    {
      "cell_type": "code",
      "execution_count": 21,
      "metadata": {
        "colab": {
          "base_uri": "https://localhost:8080/"
        },
        "id": "0IpX_Gu_gISk",
        "outputId": "a45bdd81-0056-4dd1-fb24-16a33b87d8f7"
      },
      "outputs": [],
      "source": [
        "# Fix the Compatibility issue\n",
        "tf.compat.v1.disable_eager_execution()"
      ]
    },
    {
      "cell_type": "code",
      "execution_count": 22,
      "metadata": {},
      "outputs": [],
      "source": [
        "# Hyperparameter tuning for LSTM without keras wrapper\n",
        "def hyperparameter_tuning_lstm(train_features, train_labels, val_features, val_labels):\n",
        "    # Define the results dictionary\n",
        "    results = {}\n",
        "\n",
        "    # Loop over all possible combinations of hyperparameters\n",
        "    for ru in rnn_units:\n",
        "        for do in dropout:\n",
        "            # Create the model using the current hyperparameters\n",
        "            model = create_model_lstm(ru, do)\n",
        "            model.fit(train_features, train_labels, epochs=5, verbose=2, validation_data=(val_features, val_labels))\n",
        "\n",
        "            # Get the latest validation accuracy\n",
        "            acc = model.history.history['val_accuracy'][-1]\n",
        "\n",
        "            # Save the results\n",
        "            results[(ru, do)] = acc\n",
        "    return results"
      ]
    },
    {
      "cell_type": "code",
      "execution_count": 23,
      "metadata": {},
      "outputs": [
        {
          "name": "stdout",
          "output_type": "stream",
          "text": [
            "Train on 510 samples, validate on 170 samples\n",
            "Epoch 1/5\n"
          ]
        },
        {
          "name": "stderr",
          "output_type": "stream",
          "text": [
            "c:\\Users\\LENOVO\\AppData\\Local\\Programs\\Python\\Python311\\Lib\\site-packages\\keras\\src\\engine\\training_v1.py:2335: UserWarning: `Model.state_updates` will be removed in a future version. This property should not be used in TensorFlow 2.0, as `updates` are applied automatically.\n",
            "  updates = self.state_updates\n"
          ]
        },
        {
          "name": "stdout",
          "output_type": "stream",
          "text": [
            "510/510 - 1s - loss: 5.9943 - accuracy: 0.0373 - val_loss: 5.9176 - val_accuracy: 0.0059 - 983ms/epoch - 2ms/sample\n",
            "Epoch 2/5\n",
            "510/510 - 1s - loss: 5.4052 - accuracy: 0.0471 - val_loss: 6.2738 - val_accuracy: 0.0529 - 567ms/epoch - 1ms/sample\n",
            "Epoch 3/5\n",
            "510/510 - 1s - loss: 5.1381 - accuracy: 0.0490 - val_loss: 6.5258 - val_accuracy: 0.0529 - 568ms/epoch - 1ms/sample\n",
            "Epoch 4/5\n",
            "510/510 - 1s - loss: 5.0673 - accuracy: 0.0569 - val_loss: 6.7817 - val_accuracy: 0.0471 - 565ms/epoch - 1ms/sample\n",
            "Epoch 5/5\n",
            "510/510 - 1s - loss: 5.0238 - accuracy: 0.0588 - val_loss: 6.8431 - val_accuracy: 0.0529 - 555ms/epoch - 1ms/sample\n",
            "Train on 510 samples, validate on 170 samples\n",
            "Epoch 1/5\n",
            "510/510 - 1s - loss: 5.9926 - accuracy: 0.0373 - val_loss: 5.9090 - val_accuracy: 0.0059 - 1s/epoch - 3ms/sample\n",
            "Epoch 2/5\n",
            "510/510 - 1s - loss: 5.3853 - accuracy: 0.0412 - val_loss: 6.4056 - val_accuracy: 0.0059 - 699ms/epoch - 1ms/sample\n",
            "Epoch 3/5\n",
            "510/510 - 1s - loss: 5.1287 - accuracy: 0.0510 - val_loss: 6.5230 - val_accuracy: 0.0529 - 718ms/epoch - 1ms/sample\n",
            "Epoch 4/5\n",
            "510/510 - 1s - loss: 5.0724 - accuracy: 0.0549 - val_loss: 6.8077 - val_accuracy: 0.0353 - 669ms/epoch - 1ms/sample\n",
            "Epoch 5/5\n",
            "510/510 - 1s - loss: 5.0310 - accuracy: 0.0627 - val_loss: 6.9420 - val_accuracy: 0.0412 - 655ms/epoch - 1ms/sample\n",
            "Train on 510 samples, validate on 170 samples\n",
            "Epoch 1/5\n",
            "510/510 - 2s - loss: 6.0114 - accuracy: 0.0333 - val_loss: 5.9254 - val_accuracy: 0.0059 - 2s/epoch - 3ms/sample\n",
            "Epoch 2/5\n",
            "510/510 - 1s - loss: 5.4160 - accuracy: 0.0431 - val_loss: 6.3988 - val_accuracy: 0.0529 - 741ms/epoch - 1ms/sample\n",
            "Epoch 3/5\n",
            "510/510 - 1s - loss: 5.1499 - accuracy: 0.0490 - val_loss: 6.5493 - val_accuracy: 0.0529 - 705ms/epoch - 1ms/sample\n",
            "Epoch 4/5\n",
            "510/510 - 1s - loss: 5.0774 - accuracy: 0.0490 - val_loss: 6.8621 - val_accuracy: 0.0294 - 683ms/epoch - 1ms/sample\n",
            "Epoch 5/5\n",
            "510/510 - 1s - loss: 5.0382 - accuracy: 0.0569 - val_loss: 6.8814 - val_accuracy: 0.0353 - 682ms/epoch - 1ms/sample\n",
            "Train on 510 samples, validate on 170 samples\n",
            "Epoch 1/5\n",
            "510/510 - 3s - loss: 5.8941 - accuracy: 0.0294 - val_loss: 6.0432 - val_accuracy: 0.0529 - 3s/epoch - 6ms/sample\n",
            "Epoch 2/5\n",
            "510/510 - 2s - loss: 5.2895 - accuracy: 0.0490 - val_loss: 6.2553 - val_accuracy: 0.0059 - 2s/epoch - 3ms/sample\n",
            "Epoch 3/5\n",
            "510/510 - 2s - loss: 5.1223 - accuracy: 0.0490 - val_loss: 6.7268 - val_accuracy: 0.0176 - 2s/epoch - 3ms/sample\n",
            "Epoch 4/5\n",
            "510/510 - 2s - loss: 5.0687 - accuracy: 0.0510 - val_loss: 6.6906 - val_accuracy: 0.0529 - 2s/epoch - 3ms/sample\n",
            "Epoch 5/5\n",
            "510/510 - 2s - loss: 5.0111 - accuracy: 0.0667 - val_loss: 6.8159 - val_accuracy: 0.0471 - 2s/epoch - 3ms/sample\n",
            "Train on 510 samples, validate on 170 samples\n",
            "Epoch 1/5\n",
            "510/510 - 3s - loss: 5.9305 - accuracy: 0.0412 - val_loss: 5.9018 - val_accuracy: 0.0059 - 3s/epoch - 6ms/sample\n",
            "Epoch 2/5\n",
            "510/510 - 2s - loss: 5.2940 - accuracy: 0.0529 - val_loss: 6.3320 - val_accuracy: 0.0529 - 2s/epoch - 3ms/sample\n",
            "Epoch 3/5\n",
            "510/510 - 2s - loss: 5.1419 - accuracy: 0.0431 - val_loss: 6.6272 - val_accuracy: 0.0471 - 2s/epoch - 3ms/sample\n",
            "Epoch 4/5\n",
            "510/510 - 2s - loss: 5.0591 - accuracy: 0.0608 - val_loss: 6.7204 - val_accuracy: 0.0471 - 2s/epoch - 3ms/sample\n",
            "Epoch 5/5\n",
            "510/510 - 2s - loss: 4.9841 - accuracy: 0.0667 - val_loss: 6.7915 - val_accuracy: 0.0176 - 2s/epoch - 3ms/sample\n",
            "Train on 510 samples, validate on 170 samples\n",
            "Epoch 1/5\n",
            "510/510 - 3s - loss: 5.8974 - accuracy: 0.0353 - val_loss: 5.9582 - val_accuracy: 0.0059 - 3s/epoch - 6ms/sample\n",
            "Epoch 2/5\n",
            "510/510 - 2s - loss: 5.2961 - accuracy: 0.0529 - val_loss: 6.1452 - val_accuracy: 0.0529 - 2s/epoch - 4ms/sample\n",
            "Epoch 3/5\n",
            "510/510 - 2s - loss: 5.1216 - accuracy: 0.0471 - val_loss: 6.7238 - val_accuracy: 0.0059 - 2s/epoch - 4ms/sample\n",
            "Epoch 4/5\n",
            "510/510 - 2s - loss: 5.0677 - accuracy: 0.0510 - val_loss: 6.7822 - val_accuracy: 0.0471 - 2s/epoch - 3ms/sample\n",
            "Epoch 5/5\n",
            "510/510 - 2s - loss: 4.9786 - accuracy: 0.0706 - val_loss: 6.8568 - val_accuracy: 0.0294 - 2s/epoch - 4ms/sample\n",
            "Train on 510 samples, validate on 170 samples\n",
            "Epoch 1/5\n",
            "510/510 - 5s - loss: 5.8305 - accuracy: 0.0294 - val_loss: 5.9406 - val_accuracy: 0.0235 - 5s/epoch - 10ms/sample\n",
            "Epoch 2/5\n",
            "510/510 - 3s - loss: 5.3091 - accuracy: 0.0392 - val_loss: 6.3213 - val_accuracy: 0.0529 - 3s/epoch - 7ms/sample\n",
            "Epoch 3/5\n",
            "510/510 - 4s - loss: 5.1367 - accuracy: 0.0529 - val_loss: 6.8404 - val_accuracy: 0.0118 - 4s/epoch - 7ms/sample\n",
            "Epoch 4/5\n",
            "510/510 - 3s - loss: 5.0138 - accuracy: 0.0627 - val_loss: 6.6816 - val_accuracy: 0.0588 - 3s/epoch - 7ms/sample\n",
            "Epoch 5/5\n",
            "510/510 - 3s - loss: 4.8863 - accuracy: 0.0804 - val_loss: 6.8126 - val_accuracy: 0.0588 - 3s/epoch - 7ms/sample\n",
            "Train on 510 samples, validate on 170 samples\n",
            "Epoch 1/5\n",
            "510/510 - 6s - loss: 5.8686 - accuracy: 0.0431 - val_loss: 5.9646 - val_accuracy: 0.0529 - 6s/epoch - 11ms/sample\n",
            "Epoch 2/5\n",
            "510/510 - 3s - loss: 5.3404 - accuracy: 0.0373 - val_loss: 6.3646 - val_accuracy: 0.0235 - 3s/epoch - 6ms/sample\n",
            "Epoch 3/5\n",
            "510/510 - 3s - loss: 5.1422 - accuracy: 0.0490 - val_loss: 6.7005 - val_accuracy: 0.0471 - 3s/epoch - 7ms/sample\n",
            "Epoch 4/5\n",
            "510/510 - 3s - loss: 5.0655 - accuracy: 0.0529 - val_loss: 6.8649 - val_accuracy: 0.0471 - 3s/epoch - 7ms/sample\n",
            "Epoch 5/5\n",
            "510/510 - 3s - loss: 4.9492 - accuracy: 0.0686 - val_loss: 6.9114 - val_accuracy: 0.0529 - 3s/epoch - 6ms/sample\n",
            "Train on 510 samples, validate on 170 samples\n",
            "Epoch 1/5\n",
            "510/510 - 5s - loss: 5.8613 - accuracy: 0.0490 - val_loss: 6.0679 - val_accuracy: 0.0529 - 5s/epoch - 10ms/sample\n",
            "Epoch 2/5\n",
            "510/510 - 3s - loss: 5.3322 - accuracy: 0.0294 - val_loss: 6.1561 - val_accuracy: 0.0059 - 3s/epoch - 7ms/sample\n",
            "Epoch 3/5\n",
            "510/510 - 3s - loss: 5.1497 - accuracy: 0.0510 - val_loss: 6.6888 - val_accuracy: 0.0529 - 3s/epoch - 6ms/sample\n",
            "Epoch 4/5\n",
            "510/510 - 3s - loss: 5.0454 - accuracy: 0.0510 - val_loss: 6.5593 - val_accuracy: 0.0235 - 3s/epoch - 6ms/sample\n",
            "Epoch 5/5\n",
            "510/510 - 3s - loss: 4.9533 - accuracy: 0.0706 - val_loss: 6.8145 - val_accuracy: 0.0412 - 3s/epoch - 6ms/sample\n"
          ]
        }
      ],
      "source": [
        "# Hyperparameter tuning for LSTM\n",
        "result = hyperparameter_tuning_lstm(train_features, train_labels, val_features, val_labels)"
      ]
    },
    {
      "cell_type": "code",
      "execution_count": 24,
      "metadata": {},
      "outputs": [
        {
          "name": "stdout",
          "output_type": "stream",
          "text": [
            "Hyperparameters: (128, 0.2) \t Val Accuracy: 0.052941177040338516\n",
            "Hyperparameters: (128, 0.3) \t Val Accuracy: 0.04117647185921669\n",
            "Hyperparameters: (128, 0.4) \t Val Accuracy: 0.03529411926865578\n",
            "Hyperparameters: (256, 0.2) \t Val Accuracy: 0.0470588244497776\n",
            "Hyperparameters: (256, 0.3) \t Val Accuracy: 0.01764705963432789\n",
            "Hyperparameters: (256, 0.4) \t Val Accuracy: 0.029411764815449715\n",
            "Hyperparameters: (512, 0.2) \t Val Accuracy: 0.05882352963089943\n",
            "Hyperparameters: (512, 0.3) \t Val Accuracy: 0.052941177040338516\n",
            "Hyperparameters: (512, 0.4) \t Val Accuracy: 0.04117647185921669\n",
            "Best hyperparameters: (512, 0.2)\n"
          ]
        }
      ],
      "source": [
        "# Print the results LSTM hyperparameter tuning\n",
        "for key, value in result.items():\n",
        "    print(f\"Hyperparameters: {key} \\t Val Accuracy: {value}\")\n",
        "print(f\"Best hyperparameters: {max(result, key=result.get)}\")"
      ]
    },
    {
      "cell_type": "code",
      "execution_count": 25,
      "metadata": {},
      "outputs": [],
      "source": [
        "# Get the best hyperparameters\n",
        "rnn_units_best = max(result, key=result.get)[0]\n",
        "dropout_best = max(result, key=result.get)[1]"
      ]
    },
    {
      "cell_type": "code",
      "execution_count": 26,
      "metadata": {},
      "outputs": [
        {
          "name": "stdout",
          "output_type": "stream",
          "text": [
            "Train on 510 samples, validate on 170 samples\n",
            "Epoch 1/100\n",
            "510/510 [==============================] - 5s 11ms/sample - loss: 5.8464 - accuracy: 0.0353 - val_loss: 6.0121 - val_accuracy: 0.0235\n",
            "Epoch 2/100\n",
            "510/510 [==============================] - 3s 7ms/sample - loss: 5.3089 - accuracy: 0.0353 - val_loss: 6.1229 - val_accuracy: 0.0529\n",
            "Epoch 3/100\n",
            "510/510 [==============================] - 3s 7ms/sample - loss: 5.1482 - accuracy: 0.0588 - val_loss: 6.4767 - val_accuracy: 0.0118\n",
            "Epoch 4/100\n",
            "510/510 [==============================] - 3s 7ms/sample - loss: 5.0786 - accuracy: 0.0706 - val_loss: 6.8338 - val_accuracy: 0.0529\n",
            "Epoch 5/100\n",
            "510/510 [==============================] - 3s 7ms/sample - loss: 4.9825 - accuracy: 0.0765 - val_loss: 6.7506 - val_accuracy: 0.0353\n",
            "Epoch 6/100\n",
            "510/510 [==============================] - 3s 7ms/sample - loss: 4.8697 - accuracy: 0.0784 - val_loss: 7.1055 - val_accuracy: 0.0529\n",
            "Epoch 7/100\n",
            "510/510 [==============================] - 3s 7ms/sample - loss: 4.6947 - accuracy: 0.0902 - val_loss: 7.2014 - val_accuracy: 0.0471\n",
            "Epoch 8/100\n",
            "510/510 [==============================] - 3s 7ms/sample - loss: 4.4832 - accuracy: 0.0941 - val_loss: 7.1268 - val_accuracy: 0.0588\n",
            "Epoch 9/100\n",
            "510/510 [==============================] - 3s 7ms/sample - loss: 4.2504 - accuracy: 0.1137 - val_loss: 7.2894 - val_accuracy: 0.0412\n",
            "Epoch 10/100\n",
            "510/510 [==============================] - 3s 7ms/sample - loss: 3.9161 - accuracy: 0.1569 - val_loss: 7.2621 - val_accuracy: 0.0706\n",
            "Epoch 11/100\n",
            "510/510 [==============================] - 3s 7ms/sample - loss: 3.6100 - accuracy: 0.1765 - val_loss: 7.6425 - val_accuracy: 0.0824\n",
            "Epoch 12/100\n",
            "510/510 [==============================] - 3s 7ms/sample - loss: 3.3117 - accuracy: 0.2235 - val_loss: 8.0993 - val_accuracy: 0.0765\n",
            "Epoch 13/100\n",
            "510/510 [==============================] - 3s 7ms/sample - loss: 2.9214 - accuracy: 0.2804 - val_loss: 8.4277 - val_accuracy: 0.1059\n",
            "Epoch 14/100\n",
            "510/510 [==============================] - 3s 7ms/sample - loss: 2.5915 - accuracy: 0.3039 - val_loss: 8.0669 - val_accuracy: 0.0824\n",
            "Epoch 15/100\n",
            "510/510 [==============================] - 3s 7ms/sample - loss: 2.3197 - accuracy: 0.3941 - val_loss: 8.7948 - val_accuracy: 0.0882\n",
            "Epoch 16/100\n",
            "510/510 [==============================] - 3s 7ms/sample - loss: 1.9587 - accuracy: 0.4490 - val_loss: 8.7126 - val_accuracy: 0.0941\n",
            "Epoch 17/100\n",
            "510/510 [==============================] - 3s 6ms/sample - loss: 1.6864 - accuracy: 0.5294 - val_loss: 9.6762 - val_accuracy: 0.0941\n",
            "Epoch 18/100\n",
            "510/510 [==============================] - 3s 6ms/sample - loss: 1.5322 - accuracy: 0.5686 - val_loss: 9.8350 - val_accuracy: 0.1000\n",
            "Epoch 19/100\n",
            "510/510 [==============================] - 3s 6ms/sample - loss: 1.2802 - accuracy: 0.6490 - val_loss: 9.8674 - val_accuracy: 0.0941\n",
            "Epoch 20/100\n",
            "510/510 [==============================] - 3s 6ms/sample - loss: 1.1026 - accuracy: 0.7078 - val_loss: 9.8385 - val_accuracy: 0.1059\n",
            "Epoch 21/100\n",
            "510/510 [==============================] - 4s 7ms/sample - loss: 0.9150 - accuracy: 0.7686 - val_loss: 10.2878 - val_accuracy: 0.1176\n",
            "Epoch 22/100\n",
            "510/510 [==============================] - 3s 6ms/sample - loss: 0.7804 - accuracy: 0.8078 - val_loss: 10.2061 - val_accuracy: 0.0941\n",
            "Epoch 23/100\n",
            "510/510 [==============================] - 3s 7ms/sample - loss: 0.6574 - accuracy: 0.8294 - val_loss: 10.4345 - val_accuracy: 0.1000\n",
            "Epoch 24/100\n",
            "510/510 [==============================] - 3s 6ms/sample - loss: 0.6059 - accuracy: 0.8392 - val_loss: 10.3533 - val_accuracy: 0.1059\n",
            "Epoch 25/100\n",
            "510/510 [==============================] - 3s 6ms/sample - loss: 0.4993 - accuracy: 0.8980 - val_loss: 10.7656 - val_accuracy: 0.0941\n",
            "Epoch 26/100\n",
            "510/510 [==============================] - 3s 6ms/sample - loss: 0.4407 - accuracy: 0.8980 - val_loss: 10.9639 - val_accuracy: 0.1118\n",
            "Epoch 27/100\n",
            "510/510 [==============================] - 3s 6ms/sample - loss: 0.3646 - accuracy: 0.9098 - val_loss: 10.9687 - val_accuracy: 0.1059\n",
            "Epoch 28/100\n",
            "510/510 [==============================] - 3s 6ms/sample - loss: 0.3042 - accuracy: 0.9353 - val_loss: 11.1116 - val_accuracy: 0.1059\n",
            "Epoch 29/100\n",
            "510/510 [==============================] - 3s 6ms/sample - loss: 0.2726 - accuracy: 0.9275 - val_loss: 11.4135 - val_accuracy: 0.0882\n",
            "Epoch 30/100\n",
            "510/510 [==============================] - 3s 6ms/sample - loss: 0.2469 - accuracy: 0.9569 - val_loss: 11.2939 - val_accuracy: 0.0941\n",
            "Epoch 31/100\n",
            "510/510 [==============================] - 3s 6ms/sample - loss: 0.2182 - accuracy: 0.9490 - val_loss: 11.1080 - val_accuracy: 0.0882\n",
            "Epoch 32/100\n",
            "510/510 [==============================] - 3s 7ms/sample - loss: 0.2010 - accuracy: 0.9549 - val_loss: 11.3482 - val_accuracy: 0.1000\n",
            "Epoch 33/100\n",
            "510/510 [==============================] - 3s 6ms/sample - loss: 0.1797 - accuracy: 0.9510 - val_loss: 11.4199 - val_accuracy: 0.0941\n",
            "Epoch 34/100\n",
            "510/510 [==============================] - 3s 6ms/sample - loss: 0.1695 - accuracy: 0.9608 - val_loss: 11.3966 - val_accuracy: 0.0824\n",
            "Epoch 35/100\n",
            "510/510 [==============================] - 3s 6ms/sample - loss: 0.1747 - accuracy: 0.9549 - val_loss: 11.4513 - val_accuracy: 0.0882\n",
            "Epoch 36/100\n",
            "510/510 [==============================] - 4s 7ms/sample - loss: 0.1556 - accuracy: 0.9627 - val_loss: 11.7257 - val_accuracy: 0.1000\n",
            "Epoch 37/100\n",
            "510/510 [==============================] - 3s 6ms/sample - loss: 0.1515 - accuracy: 0.9510 - val_loss: 11.6734 - val_accuracy: 0.1000\n",
            "Epoch 38/100\n",
            "510/510 [==============================] - 3s 6ms/sample - loss: 0.1365 - accuracy: 0.9549 - val_loss: 11.8578 - val_accuracy: 0.1000\n",
            "Epoch 39/100\n",
            "510/510 [==============================] - 4s 7ms/sample - loss: 0.1204 - accuracy: 0.9588 - val_loss: 11.7290 - val_accuracy: 0.0941\n",
            "Epoch 40/100\n",
            "510/510 [==============================] - 3s 7ms/sample - loss: 0.1204 - accuracy: 0.9588 - val_loss: 11.8843 - val_accuracy: 0.1059\n",
            "Epoch 41/100\n",
            "510/510 [==============================] - 4s 7ms/sample - loss: 0.1205 - accuracy: 0.9647 - val_loss: 11.7592 - val_accuracy: 0.0941\n",
            "Epoch 42/100\n",
            "510/510 [==============================] - 4s 7ms/sample - loss: 0.1290 - accuracy: 0.9569 - val_loss: 11.8715 - val_accuracy: 0.1059\n",
            "Epoch 43/100\n",
            "510/510 [==============================] - 4s 7ms/sample - loss: 0.1215 - accuracy: 0.9549 - val_loss: 11.9077 - val_accuracy: 0.1059\n",
            "Epoch 44/100\n",
            "510/510 [==============================] - 3s 6ms/sample - loss: 0.1256 - accuracy: 0.9627 - val_loss: 11.7377 - val_accuracy: 0.1118\n",
            "Epoch 45/100\n",
            "510/510 [==============================] - 4s 7ms/sample - loss: 0.1060 - accuracy: 0.9569 - val_loss: 12.0503 - val_accuracy: 0.1000\n",
            "Epoch 46/100\n",
            "510/510 [==============================] - 4s 7ms/sample - loss: 0.1060 - accuracy: 0.9608 - val_loss: 11.5623 - val_accuracy: 0.1000\n",
            "Epoch 47/100\n",
            "510/510 [==============================] - 4s 7ms/sample - loss: 0.1074 - accuracy: 0.9627 - val_loss: 11.9163 - val_accuracy: 0.1000\n",
            "Epoch 48/100\n",
            "510/510 [==============================] - 4s 7ms/sample - loss: 0.1108 - accuracy: 0.9647 - val_loss: 11.9682 - val_accuracy: 0.1000\n",
            "Epoch 49/100\n",
            "510/510 [==============================] - 3s 6ms/sample - loss: 0.0986 - accuracy: 0.9647 - val_loss: 11.8192 - val_accuracy: 0.0941\n",
            "Epoch 50/100\n",
            "510/510 [==============================] - 3s 6ms/sample - loss: 0.1020 - accuracy: 0.9588 - val_loss: 12.0914 - val_accuracy: 0.0941\n",
            "Epoch 51/100\n",
            "320/510 [=================>............] - ETA: 1s - loss: 0.1025 - accuracy: 0.9500"
          ]
        },
        {
          "ename": "KeyboardInterrupt",
          "evalue": "",
          "output_type": "error",
          "traceback": [
            "\u001b[1;31m---------------------------------------------------------------------------\u001b[0m",
            "\u001b[1;31mKeyboardInterrupt\u001b[0m                         Traceback (most recent call last)",
            "\u001b[1;32mc:\\Users\\LENOVO\\Downloads\\programmer\\GitHub\\Text-Generator-ShLiDaNa\\Code\\Text_Generation_ShLiDaNa_v999.ipynb Cell 34\u001b[0m line \u001b[0;36m4\n\u001b[0;32m      <a href='vscode-notebook-cell:/c%3A/Users/LENOVO/Downloads/programmer/GitHub/Text-Generator-ShLiDaNa/Code/Text_Generation_ShLiDaNa_v999.ipynb#X44sZmlsZQ%3D%3D?line=0'>1</a>\u001b[0m \u001b[39m# Use the best hyperparameters to create the final model\u001b[39;00m\n\u001b[0;32m      <a href='vscode-notebook-cell:/c%3A/Users/LENOVO/Downloads/programmer/GitHub/Text-Generator-ShLiDaNa/Code/Text_Generation_ShLiDaNa_v999.ipynb#X44sZmlsZQ%3D%3D?line=1'>2</a>\u001b[0m model_lstm \u001b[39m=\u001b[39m create_model_lstm(rnn_units_best, dropout_best)\n\u001b[1;32m----> <a href='vscode-notebook-cell:/c%3A/Users/LENOVO/Downloads/programmer/GitHub/Text-Generator-ShLiDaNa/Code/Text_Generation_ShLiDaNa_v999.ipynb#X44sZmlsZQ%3D%3D?line=3'>4</a>\u001b[0m history \u001b[39m=\u001b[39m model_lstm\u001b[39m.\u001b[39;49mfit(train_features, train_labels, epochs\u001b[39m=\u001b[39;49mEPOCH, verbose\u001b[39m=\u001b[39;49m\u001b[39m1\u001b[39;49m, validation_data\u001b[39m=\u001b[39;49m(val_features, val_labels))\n",
            "File \u001b[1;32mc:\\Users\\LENOVO\\AppData\\Local\\Programs\\Python\\Python311\\Lib\\site-packages\\keras\\src\\engine\\training_v1.py:856\u001b[0m, in \u001b[0;36mModel.fit\u001b[1;34m(self, x, y, batch_size, epochs, verbose, callbacks, validation_split, validation_data, shuffle, class_weight, sample_weight, initial_epoch, steps_per_epoch, validation_steps, validation_freq, max_queue_size, workers, use_multiprocessing, **kwargs)\u001b[0m\n\u001b[0;32m    853\u001b[0m \u001b[39mself\u001b[39m\u001b[39m.\u001b[39m_check_call_args(\u001b[39m\"\u001b[39m\u001b[39mfit\u001b[39m\u001b[39m\"\u001b[39m)\n\u001b[0;32m    855\u001b[0m func \u001b[39m=\u001b[39m \u001b[39mself\u001b[39m\u001b[39m.\u001b[39m_select_training_loop(x)\n\u001b[1;32m--> 856\u001b[0m \u001b[39mreturn\u001b[39;00m func\u001b[39m.\u001b[39;49mfit(\n\u001b[0;32m    857\u001b[0m     \u001b[39mself\u001b[39;49m,\n\u001b[0;32m    858\u001b[0m     x\u001b[39m=\u001b[39;49mx,\n\u001b[0;32m    859\u001b[0m     y\u001b[39m=\u001b[39;49my,\n\u001b[0;32m    860\u001b[0m     batch_size\u001b[39m=\u001b[39;49mbatch_size,\n\u001b[0;32m    861\u001b[0m     epochs\u001b[39m=\u001b[39;49mepochs,\n\u001b[0;32m    862\u001b[0m     verbose\u001b[39m=\u001b[39;49mverbose,\n\u001b[0;32m    863\u001b[0m     callbacks\u001b[39m=\u001b[39;49mcallbacks,\n\u001b[0;32m    864\u001b[0m     validation_split\u001b[39m=\u001b[39;49mvalidation_split,\n\u001b[0;32m    865\u001b[0m     validation_data\u001b[39m=\u001b[39;49mvalidation_data,\n\u001b[0;32m    866\u001b[0m     shuffle\u001b[39m=\u001b[39;49mshuffle,\n\u001b[0;32m    867\u001b[0m     class_weight\u001b[39m=\u001b[39;49mclass_weight,\n\u001b[0;32m    868\u001b[0m     sample_weight\u001b[39m=\u001b[39;49msample_weight,\n\u001b[0;32m    869\u001b[0m     initial_epoch\u001b[39m=\u001b[39;49minitial_epoch,\n\u001b[0;32m    870\u001b[0m     steps_per_epoch\u001b[39m=\u001b[39;49msteps_per_epoch,\n\u001b[0;32m    871\u001b[0m     validation_steps\u001b[39m=\u001b[39;49mvalidation_steps,\n\u001b[0;32m    872\u001b[0m     validation_freq\u001b[39m=\u001b[39;49mvalidation_freq,\n\u001b[0;32m    873\u001b[0m     max_queue_size\u001b[39m=\u001b[39;49mmax_queue_size,\n\u001b[0;32m    874\u001b[0m     workers\u001b[39m=\u001b[39;49mworkers,\n\u001b[0;32m    875\u001b[0m     use_multiprocessing\u001b[39m=\u001b[39;49muse_multiprocessing,\n\u001b[0;32m    876\u001b[0m )\n",
            "File \u001b[1;32mc:\\Users\\LENOVO\\AppData\\Local\\Programs\\Python\\Python311\\Lib\\site-packages\\keras\\src\\engine\\training_arrays_v1.py:734\u001b[0m, in \u001b[0;36mArrayLikeTrainingLoop.fit\u001b[1;34m(self, model, x, y, batch_size, epochs, verbose, callbacks, validation_split, validation_data, shuffle, class_weight, sample_weight, initial_epoch, steps_per_epoch, validation_steps, validation_freq, **kwargs)\u001b[0m\n\u001b[0;32m    728\u001b[0m         \u001b[39mraise\u001b[39;00m \u001b[39mValueError\u001b[39;00m(\n\u001b[0;32m    729\u001b[0m             \u001b[39m\"\u001b[39m\u001b[39m`validation_steps` should not be specified if \u001b[39m\u001b[39m\"\u001b[39m\n\u001b[0;32m    730\u001b[0m             \u001b[39m\"\u001b[39m\u001b[39m`validation_data` is None.\u001b[39m\u001b[39m\"\u001b[39m\n\u001b[0;32m    731\u001b[0m         )\n\u001b[0;32m    732\u001b[0m     val_x, val_y, val_sample_weights \u001b[39m=\u001b[39m \u001b[39mNone\u001b[39;00m, \u001b[39mNone\u001b[39;00m, \u001b[39mNone\u001b[39;00m\n\u001b[1;32m--> 734\u001b[0m \u001b[39mreturn\u001b[39;00m fit_loop(\n\u001b[0;32m    735\u001b[0m     model,\n\u001b[0;32m    736\u001b[0m     inputs\u001b[39m=\u001b[39;49mx,\n\u001b[0;32m    737\u001b[0m     targets\u001b[39m=\u001b[39;49my,\n\u001b[0;32m    738\u001b[0m     sample_weights\u001b[39m=\u001b[39;49msample_weights,\n\u001b[0;32m    739\u001b[0m     batch_size\u001b[39m=\u001b[39;49mbatch_size,\n\u001b[0;32m    740\u001b[0m     epochs\u001b[39m=\u001b[39;49mepochs,\n\u001b[0;32m    741\u001b[0m     verbose\u001b[39m=\u001b[39;49mverbose,\n\u001b[0;32m    742\u001b[0m     callbacks\u001b[39m=\u001b[39;49mcallbacks,\n\u001b[0;32m    743\u001b[0m     val_inputs\u001b[39m=\u001b[39;49mval_x,\n\u001b[0;32m    744\u001b[0m     val_targets\u001b[39m=\u001b[39;49mval_y,\n\u001b[0;32m    745\u001b[0m     val_sample_weights\u001b[39m=\u001b[39;49mval_sample_weights,\n\u001b[0;32m    746\u001b[0m     shuffle\u001b[39m=\u001b[39;49mshuffle,\n\u001b[0;32m    747\u001b[0m     initial_epoch\u001b[39m=\u001b[39;49minitial_epoch,\n\u001b[0;32m    748\u001b[0m     steps_per_epoch\u001b[39m=\u001b[39;49msteps_per_epoch,\n\u001b[0;32m    749\u001b[0m     validation_steps\u001b[39m=\u001b[39;49mvalidation_steps,\n\u001b[0;32m    750\u001b[0m     validation_freq\u001b[39m=\u001b[39;49mvalidation_freq,\n\u001b[0;32m    751\u001b[0m     steps_name\u001b[39m=\u001b[39;49m\u001b[39m\"\u001b[39;49m\u001b[39msteps_per_epoch\u001b[39;49m\u001b[39m\"\u001b[39;49m,\n\u001b[0;32m    752\u001b[0m )\n",
            "File \u001b[1;32mc:\\Users\\LENOVO\\AppData\\Local\\Programs\\Python\\Python311\\Lib\\site-packages\\keras\\src\\engine\\training_arrays_v1.py:421\u001b[0m, in \u001b[0;36mmodel_iteration\u001b[1;34m(model, inputs, targets, sample_weights, batch_size, epochs, verbose, callbacks, val_inputs, val_targets, val_sample_weights, shuffle, initial_epoch, steps_per_epoch, validation_steps, validation_freq, mode, validation_in_fit, prepared_feed_values_from_dataset, steps_name, **kwargs)\u001b[0m\n\u001b[0;32m    416\u001b[0m callbacks\u001b[39m.\u001b[39m_call_batch_hook(\n\u001b[0;32m    417\u001b[0m     mode, \u001b[39m\"\u001b[39m\u001b[39mbegin\u001b[39m\u001b[39m\"\u001b[39m, batch_index, batch_logs\n\u001b[0;32m    418\u001b[0m )\n\u001b[0;32m    420\u001b[0m \u001b[39m# Get outputs.\u001b[39;00m\n\u001b[1;32m--> 421\u001b[0m batch_outs \u001b[39m=\u001b[39m f(ins_batch)\n\u001b[0;32m    422\u001b[0m \u001b[39mif\u001b[39;00m \u001b[39mnot\u001b[39;00m \u001b[39misinstance\u001b[39m(batch_outs, \u001b[39mlist\u001b[39m):\n\u001b[0;32m    423\u001b[0m     batch_outs \u001b[39m=\u001b[39m [batch_outs]\n",
            "File \u001b[1;32mc:\\Users\\LENOVO\\AppData\\Local\\Programs\\Python\\Python311\\Lib\\site-packages\\keras\\src\\backend.py:4609\u001b[0m, in \u001b[0;36mGraphExecutionFunction.__call__\u001b[1;34m(self, inputs)\u001b[0m\n\u001b[0;32m   4599\u001b[0m \u001b[39mif\u001b[39;00m (\n\u001b[0;32m   4600\u001b[0m     \u001b[39mself\u001b[39m\u001b[39m.\u001b[39m_callable_fn \u001b[39mis\u001b[39;00m \u001b[39mNone\u001b[39;00m\n\u001b[0;32m   4601\u001b[0m     \u001b[39mor\u001b[39;00m feed_arrays \u001b[39m!=\u001b[39m \u001b[39mself\u001b[39m\u001b[39m.\u001b[39m_feed_arrays\n\u001b[1;32m   (...)\u001b[0m\n\u001b[0;32m   4605\u001b[0m     \u001b[39mor\u001b[39;00m session \u001b[39m!=\u001b[39m \u001b[39mself\u001b[39m\u001b[39m.\u001b[39m_session\n\u001b[0;32m   4606\u001b[0m ):\n\u001b[0;32m   4607\u001b[0m     \u001b[39mself\u001b[39m\u001b[39m.\u001b[39m_make_callable(feed_arrays, feed_symbols, symbol_vals, session)\n\u001b[1;32m-> 4609\u001b[0m fetched \u001b[39m=\u001b[39m \u001b[39mself\u001b[39;49m\u001b[39m.\u001b[39;49m_callable_fn(\u001b[39m*\u001b[39;49marray_vals, run_metadata\u001b[39m=\u001b[39;49m\u001b[39mself\u001b[39;49m\u001b[39m.\u001b[39;49mrun_metadata)\n\u001b[0;32m   4610\u001b[0m \u001b[39mself\u001b[39m\u001b[39m.\u001b[39m_call_fetch_callbacks(fetched[\u001b[39m-\u001b[39m\u001b[39mlen\u001b[39m(\u001b[39mself\u001b[39m\u001b[39m.\u001b[39m_fetches) :])\n\u001b[0;32m   4611\u001b[0m output_structure \u001b[39m=\u001b[39m tf\u001b[39m.\u001b[39mnest\u001b[39m.\u001b[39mpack_sequence_as(\n\u001b[0;32m   4612\u001b[0m     \u001b[39mself\u001b[39m\u001b[39m.\u001b[39m_outputs_structure,\n\u001b[0;32m   4613\u001b[0m     fetched[: \u001b[39mlen\u001b[39m(\u001b[39mself\u001b[39m\u001b[39m.\u001b[39moutputs)],\n\u001b[0;32m   4614\u001b[0m     expand_composites\u001b[39m=\u001b[39m\u001b[39mTrue\u001b[39;00m,\n\u001b[0;32m   4615\u001b[0m )\n",
            "File \u001b[1;32mc:\\Users\\LENOVO\\AppData\\Local\\Programs\\Python\\Python311\\Lib\\site-packages\\tensorflow\\python\\client\\session.py:1482\u001b[0m, in \u001b[0;36mBaseSession._Callable.__call__\u001b[1;34m(self, *args, **kwargs)\u001b[0m\n\u001b[0;32m   1480\u001b[0m \u001b[39mtry\u001b[39;00m:\n\u001b[0;32m   1481\u001b[0m   run_metadata_ptr \u001b[39m=\u001b[39m tf_session\u001b[39m.\u001b[39mTF_NewBuffer() \u001b[39mif\u001b[39;00m run_metadata \u001b[39melse\u001b[39;00m \u001b[39mNone\u001b[39;00m\n\u001b[1;32m-> 1482\u001b[0m   ret \u001b[39m=\u001b[39m tf_session\u001b[39m.\u001b[39;49mTF_SessionRunCallable(\u001b[39mself\u001b[39;49m\u001b[39m.\u001b[39;49m_session\u001b[39m.\u001b[39;49m_session,\n\u001b[0;32m   1483\u001b[0m                                          \u001b[39mself\u001b[39;49m\u001b[39m.\u001b[39;49m_handle, args,\n\u001b[0;32m   1484\u001b[0m                                          run_metadata_ptr)\n\u001b[0;32m   1485\u001b[0m   \u001b[39mif\u001b[39;00m run_metadata:\n\u001b[0;32m   1486\u001b[0m     proto_data \u001b[39m=\u001b[39m tf_session\u001b[39m.\u001b[39mTF_GetBuffer(run_metadata_ptr)\n",
            "\u001b[1;31mKeyboardInterrupt\u001b[0m: "
          ]
        }
      ],
      "source": [
        "# Use the best hyperparameters to create the final model\n",
        "model_lstm = create_model_lstm(rnn_units_best, dropout_best)\n",
        "\n",
        "history = model_lstm.fit(train_features, train_labels, epochs=EPOCH, verbose=1, validation_data=(val_features, val_labels))"
      ]
    },
    {
      "cell_type": "code",
      "execution_count": null,
      "metadata": {
        "colab": {
          "base_uri": "https://localhost:8080/",
          "height": 545
        },
        "id": "1fXTEO3GJ282",
        "outputId": "17d8ff54-00d7-4d9b-e13d-a3dcde7c0649"
      },
      "outputs": [
        {
          "data": {
            "image/png": "[encoded data removed]",
            "text/plain": [
              "<Figure size 640x480 with 1 Axes>"
            ]
          },
          "metadata": {},
          "output_type": "display_data"
        }
      ],
      "source": [
        "# Plot the training and validation accuracy\n",
        "plt.plot(history.history['accuracy'])\n",
        "plt.plot(history.history['val_accuracy'])\n",
        "plt.title('Model Accuracy')\n",
        "plt.xlabel('Epoch')\n",
        "plt.ylabel('Accuracy')\n",
        "plt.legend(['Train', 'Validation'], loc='upper left')\n",
        "plt.show()"
      ]
    },
    {
      "cell_type": "code",
      "execution_count": null,
      "metadata": {},
      "outputs": [
        {
          "name": "stdout",
          "output_type": "stream",
          "text": [
            "Loss: 5.95495863685831 \t Accuracy: 0.017543859779834747\n"
          ]
        }
      ],
      "source": [
        "# Evaluate the model on the test set\n",
        "loss, acc = model_lstm.evaluate(test_features, test_labels, verbose=1)\n",
        "print(f\"Loss: {loss} \\t Accuracy: {acc}\")"
      ]
    },
    {
      "cell_type": "markdown",
      "metadata": {},
      "source": [
        "# GRU Model"
      ]
    },
    {
      "cell_type": "code",
      "execution_count": null,
      "metadata": {},
      "outputs": [],
      "source": [
        "# Define model with gru layer\n",
        "def create_model_gru(rnn_units, dropout):\n",
        "\n",
        "    model = Sequential([\n",
        "        Embedding(VOCAB_SIZE, EMBEDDING_DIM, input_length=max_sequence_len-1),\n",
        "        Bidirectional(GRU(rnn_units, dropout=dropout)),\n",
        "        Dense(VOCAB_SIZE, activation='softmax')\n",
        "    ])\n",
        "\n",
        "    # Compile the model\n",
        "    model.compile(loss='categorical_crossentropy',\n",
        "                  optimizer='adam',\n",
        "                  metrics=['accuracy'])\n",
        "\n",
        "    return model"
      ]
    },
    {
      "cell_type": "code",
      "execution_count": null,
      "metadata": {},
      "outputs": [
        {
          "name": "stdout",
          "output_type": "stream",
          "text": [
            "Train on 510 samples, validate on 170 samples\n",
            "510/510 [==============================] - 21s 41ms/sample - loss: 6.0118 - accuracy: 0.0412 - val_loss: 5.9462 - val_accuracy: 0.0529\n",
            "Loss: 5.901117915995637 \t Accuracy: 0.05263157933950424\n"
          ]
        }
      ],
      "source": [
        "model_gru = create_model_gru(rnn_units_best, dropout_best)\n",
        "\n",
        "history_gru = model_gru.fit(train_features, train_labels, epochs=EPOCH, verbose=1, validation_data=(val_features, val_labels))"
      ]
    },
    {
      "cell_type": "code",
      "execution_count": null,
      "metadata": {},
      "outputs": [
        {
          "data": {
            "image/png": "[encoded data removed]",
            "text/plain": [
              "<Figure size 640x480 with 1 Axes>"
            ]
          },
          "metadata": {},
          "output_type": "display_data"
        }
      ],
      "source": [
        "# Plot the training and validation accuracy\n",
        "plt.plot(history_gru.history['accuracy'])\n",
        "plt.plot(history_gru.history['val_accuracy'])\n",
        "plt.title('Model Accuracy')\n",
        "plt.xlabel('Epoch')\n",
        "plt.ylabel('Accuracy')\n",
        "plt.legend(['Train', 'Validation'], loc='upper left')\n",
        "plt.show()"
      ]
    },
    {
      "cell_type": "code",
      "execution_count": null,
      "metadata": {},
      "outputs": [],
      "source": [
        "# Evaluate the model on the test set\n",
        "loss_gru, acc_gru = model_gru.evaluate(test_features, test_labels, verbose=1)\n",
        "print(f\"Loss: {loss_gru} \\t Accuracy: {acc_gru}\")"
      ]
    },
    {
      "cell_type": "markdown",
      "metadata": {
        "id": "OjvED5A3qrn2"
      },
      "source": [
        "# Downloading the model and tokenizer\n",
        "- `model.h5`: used to predict the output word in the deployment stage.\n",
        "- `tokenizer.pkl`: used to tokenize the words in the deployment stage."
      ]
    },
    {
      "cell_type": "code",
      "execution_count": null,
      "metadata": {},
      "outputs": [],
      "source": [
        "# # Save the model\n",
        "# model_lstm.save('model.h5')\n",
        "\n",
        "# # Save the tokenizer\n",
        "# with open('tokenizer.pkl', 'wb') as handle:\n",
        "#     pkl.dump(tokenizer, handle)"
      ]
    },
    {
      "cell_type": "markdown",
      "metadata": {
        "id": "wdsMszk9zBs_"
      },
      "source": [
        "## Test the model\n",
        "Run the cell below and let the model generate the next 20 words of a seed text. You can change the seed text to whatever you want."
      ]
    },
    {
      "cell_type": "markdown",
      "metadata": {},
      "source": [
        "### LSTM predict"
      ]
    },
    {
      "cell_type": "code",
      "execution_count": null,
      "metadata": {
        "colab": {
          "base_uri": "https://localhost:8080/"
        },
        "id": "6Vc6PHgxa6Hm",
        "outputId": "7c4fe60f-e76a-4f37-dd3b-e15492973d6c"
      },
      "outputs": [
        {
          "ename": "NameError",
          "evalue": "name 'tokenizer' is not defined",
          "output_type": "error",
          "traceback": [
            "\u001b[1;31m---------------------------------------------------------------------------\u001b[0m",
            "\u001b[1;31mNameError\u001b[0m                                 Traceback (most recent call last)",
            "\u001b[1;32mc:\\Users\\LENOVO\\Downloads\\programmer\\GitHub\\Text-Generator-ShLiDaNa\\Code\\Text_Generation_ShLiDaNa_v999.ipynb Cell 46\u001b[0m line \u001b[0;36m7\n\u001b[0;32m      <a href='vscode-notebook-cell:/c%3A/Users/LENOVO/Downloads/programmer/GitHub/Text-Generator-ShLiDaNa/Code/Text_Generation_ShLiDaNa_v999.ipynb#X62sZmlsZQ%3D%3D?line=4'>5</a>\u001b[0m seed_text_gru \u001b[39m=\u001b[39m seed_text\n\u001b[0;32m      <a href='vscode-notebook-cell:/c%3A/Users/LENOVO/Downloads/programmer/GitHub/Text-Generator-ShLiDaNa/Code/Text_Generation_ShLiDaNa_v999.ipynb#X62sZmlsZQ%3D%3D?line=5'>6</a>\u001b[0m \u001b[39m# Convert the text into sequences\u001b[39;00m\n\u001b[1;32m----> <a href='vscode-notebook-cell:/c%3A/Users/LENOVO/Downloads/programmer/GitHub/Text-Generator-ShLiDaNa/Code/Text_Generation_ShLiDaNa_v999.ipynb#X62sZmlsZQ%3D%3D?line=6'>7</a>\u001b[0m token_list \u001b[39m=\u001b[39m tokenizer\u001b[39m.\u001b[39mtexts_to_sequences([seed_text])[\u001b[39m0\u001b[39m]\n\u001b[0;32m      <a href='vscode-notebook-cell:/c%3A/Users/LENOVO/Downloads/programmer/GitHub/Text-Generator-ShLiDaNa/Code/Text_Generation_ShLiDaNa_v999.ipynb#X62sZmlsZQ%3D%3D?line=8'>9</a>\u001b[0m \u001b[39m# Pad the sequences\u001b[39;00m\n\u001b[0;32m     <a href='vscode-notebook-cell:/c%3A/Users/LENOVO/Downloads/programmer/GitHub/Text-Generator-ShLiDaNa/Code/Text_Generation_ShLiDaNa_v999.ipynb#X62sZmlsZQ%3D%3D?line=9'>10</a>\u001b[0m token_list \u001b[39m=\u001b[39m pad_sequences([token_list], maxlen\u001b[39m=\u001b[39mmax_sequence_len\u001b[39m-\u001b[39m\u001b[39m1\u001b[39m, padding\u001b[39m=\u001b[39m\u001b[39m'\u001b[39m\u001b[39mpre\u001b[39m\u001b[39m'\u001b[39m)\n",
            "\u001b[1;31mNameError\u001b[0m: name 'tokenizer' is not defined"
          ]
        }
      ],
      "source": [
        "seed_text = \"please do not\"\n",
        "next_words = 20\n",
        "\n",
        "for _ in range(next_words):\n",
        "\tseed_text_gru = seed_text\n",
        "\t# Convert the text into sequences\n",
        "\ttoken_list = tokenizer.texts_to_sequences([seed_text])[0]\n",
        "\n",
        "\t# Pad the sequences\n",
        "\ttoken_list = pad_sequences([token_list], maxlen=max_sequence_len-1, padding='pre')\n",
        "\t\n",
        "\t# Get the probabilities of predicting a word\n",
        "\tpredicted = model_lstm.predict(token_list, verbose=0)\n",
        "\tpredicted_gru = model_gru.predict(token_list, verbose=0)\n",
        "\t\n",
        "\t# Choose the next word based on the maximum probability\n",
        "\tpredicted = np.argmax(predicted, axis=-1).item()\n",
        "\tpredicted_gru = np.argmax(predicted_gru, axis=-1).item()\n",
        "\t\n",
        "\t# Get the actual word from the word index\n",
        "\toutput_word = tokenizer.index_word[predicted]\n",
        "\toutput_word_gru = tokenizer.index_word[predicted_gru]\n",
        "\t\n",
        "\t# Append to the current text\n",
        "\tseed_text += \" \" + output_word\n",
        "\tseed_text_gru += \" \" + output_word_gru\n",
        "\n",
        "print(f\"This is the predicted text using LSTM: \\n{seed_text}\")\n",
        "print(f\"This is the predicted text using GRU: \\n{seed_text_gru}\")"
      ]
    }
  ],
  "metadata": {
    "accelerator": "GPU",
    "colab": {
      "provenance": []
    },
    "jupytext": {
      "main_language": "python"
    },
    "kernelspec": {
      "display_name": "Python 3",
      "name": "python3"
    },
    "language_info": {
      "codemirror_mode": {
        "name": "ipython",
        "version": 3
      },
      "file_extension": ".py",
      "mimetype": "text/x-python",
      "name": "python",
      "nbconvert_exporter": "python",
      "pygments_lexer": "ipython3",
      "version": "3.11.2"
    }
  },
  "nbformat": 4,
  "nbformat_minor": 0
}
